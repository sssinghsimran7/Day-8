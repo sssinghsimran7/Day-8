{
  "nbformat": 4,
  "nbformat_minor": 0,
  "metadata": {
    "colab": {
      "name": "Day8 Question2.ipynb",
      "provenance": [],
      "collapsed_sections": [],
      "authorship_tag": "ABX9TyP2TTOmAxegW/MPjTz1KDdo",
      "include_colab_link": true
    },
    "kernelspec": {
      "name": "python3",
      "display_name": "Python 3"
    }
  },
  "cells": [
    {
      "cell_type": "markdown",
      "metadata": {
        "id": "view-in-github",
        "colab_type": "text"
      },
      "source": [
        "<a href=\"https://colab.research.google.com/github/sssinghsimran7/Day-8/blob/master/Day8_Question2.ipynb\" target=\"_parent\"><img src=\"https://colab.research.google.com/assets/colab-badge.svg\" alt=\"Open In Colab\"/></a>"
      ]
    },
    {
      "cell_type": "code",
      "metadata": {
        "id": "0PXy0DbqoTKR",
        "colab_type": "code",
        "colab": {
          "base_uri": "https://localhost:8080/",
          "height": 34
        },
        "outputId": "3cd24e62-4e76-4e8e-9751-3f72b32426a8"
      },
      "source": [
        " %%writefile test.txt\n",
        " \n",
        "Hi, I am Simran Singh. I am from punjab"
      ],
      "execution_count": 1,
      "outputs": [
        {
          "output_type": "stream",
          "text": [
            "Writing test.txt\n"
          ],
          "name": "stdout"
        }
      ]
    },
    {
      "cell_type": "code",
      "metadata": {
        "id": "qitoUZXto8zY",
        "colab_type": "code",
        "colab": {
          "base_uri": "https://localhost:8080/",
          "height": 85
        },
        "outputId": "b5d2fd17-0dad-4b7f-b46e-de45561543e7"
      },
      "source": [
        " # opening file in read mode and tring to write \n",
        " \n",
        "try:\n",
        "    \n",
        "    file = open(\"test.txt\",\"r\")\n",
        "    \n",
        "    file.write(\"I waana learn hacking\")\n",
        "    \n",
        "    print(\"\\nWrite operation has done successfully in read only mode.\")\n",
        "    \n",
        "except Exception as e:\n",
        "    \n",
        "    print(\"\\nError has been occured\")\n",
        "    \n",
        "    print(\"\\nError message is :\",e)"
      ],
      "execution_count": 2,
      "outputs": [
        {
          "output_type": "stream",
          "text": [
            "\n",
            "Error has been occured\n",
            "\n",
            "Error message is : not writable\n"
          ],
          "name": "stdout"
        }
      ]
    }
  ]
}