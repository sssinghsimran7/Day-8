{
  "nbformat": 4,
  "nbformat_minor": 0,
  "metadata": {
    "colab": {
      "name": "Day8 Question 1.ipynb",
      "provenance": [],
      "collapsed_sections": [],
      "authorship_tag": "ABX9TyNdU5mkL2DCvlMdeRpmizKU",
      "include_colab_link": true
    },
    "kernelspec": {
      "name": "python3",
      "display_name": "Python 3"
    }
  },
  "cells": [
    {
      "cell_type": "markdown",
      "metadata": {
        "id": "view-in-github",
        "colab_type": "text"
      },
      "source": [
        "<a href=\"https://colab.research.google.com/github/sssinghsimran7/Day-8/blob/master/Day8_Question_1.ipynb\" target=\"_parent\"><img src=\"https://colab.research.google.com/assets/colab-badge.svg\" alt=\"Open In Colab\"/></a>"
      ]
    },
    {
      "cell_type": "code",
      "metadata": {
        "id": "wucEUsjfYXoA",
        "colab_type": "code",
        "colab": {
          "base_uri": "https://localhost:8080/",
          "height": 139
        },
        "outputId": "280b5ce3-9c49-4cf4-cc71-512efb504662"
      },
      "source": [
        "# Decorator\n",
        " \n",
        "def getInput(calculate_arg_fun):\n",
        "    \n",
        "    def wrap_function():\n",
        "    \n",
        "        a = int(input(\"Enter First Number : \"))\n",
        "        \n",
        "        b = int(input(\"Enter last Number : \"))\n",
        "        \n",
        "        calculate_arg_fun(a,b)   \n",
        "    \n",
        "    return wrap_function\n",
        "# calling decorator for input\n",
        " \n",
        "@getInput\n",
        " \n",
        "def EvenFinder(start, last):\n",
        "    \n",
        "    print(\"\\nThe Even numbers in the range\",start,\"to\",last,\"are :\\n\")\n",
        " \n",
        "    for n in range(start, last + 1): \n",
        "      \n",
        "        if n % 2 == 0: \n",
        "            \n",
        "            print(n, end=\",\")\n",
        "EvenFinder()"
      ],
      "execution_count": 9,
      "outputs": [
        {
          "output_type": "stream",
          "text": [
            "Enter First Number : 1\n",
            "Enter last Number : 40\n",
            "\n",
            "The Even numbers in the range 1 to 40 are :\n",
            "\n",
            "2,4,6,8,10,12,14,16,18,20,22,24,26,28,30,32,34,36,38,40,"
          ],
          "name": "stdout"
        }
      ]
    }
  ]
}